{
 "cells": [
  {
   "cell_type": "code",
   "execution_count": 1,
   "metadata": {
    "collapsed": true
   },
   "outputs": [],
   "source": [
    "import findspark\n",
    "findspark.init()"
   ]
  },
  {
   "cell_type": "code",
   "execution_count": 2,
   "metadata": {
    "collapsed": true
   },
   "outputs": [],
   "source": [
    "from pyspark import SparkContext\n",
    "from pyspark.sql import SparkSession\n",
    "import pyspark.sql.functions as F\n",
    "from pyspark.sql.types import StructType, StructField, IntegerType, TimestampType\n",
    "from functools import reduce\n",
    "from operator import add\n",
    "from pyspark.sql.functions import col"
   ]
  },
  {
   "cell_type": "code",
   "execution_count": 3,
   "metadata": {},
   "outputs": [],
   "source": [
    "sc = SparkContext(master = 'local[*]')"
   ]
  },
  {
   "cell_type": "code",
   "execution_count": 4,
   "metadata": {
    "collapsed": true
   },
   "outputs": [],
   "source": [
    "file = 'data.csv'"
   ]
  },
  {
   "cell_type": "code",
   "execution_count": 6,
   "metadata": {
    "collapsed": true
   },
   "outputs": [],
   "source": [
    "spark = SparkSession \\\n",
    "    .builder \\\n",
    "    .master(\"local[*]\") \\\n",
    "    .appName(\"PySpark\") \\\n",
    "    .getOrCreate()"
   ]
  },
  {
   "cell_type": "markdown",
   "metadata": {},
   "source": [
    "### 1.Явка (%) по всем регионам"
   ]
  },
  {
   "cell_type": "code",
   "execution_count": 7,
   "metadata": {},
   "outputs": [],
   "source": [
    "dataframe = spark.read.csv(file, inferSchema=True, header=True).toDF('Region','TIK','UIK', \\\n",
    "          'number of all voters', 'number of ballots received', \\\n",
    "          'number of early voting', 'number of ballots issued inside', 'number of ballots issued outside','number of blanked ballots', \\\n",
    "          'number of ballots in portable boxes', 'number of ballots in stationary boxes', \\\n",
    "          'number of invalid ballots', 'number of valid ballots', 'number of lost ballots', 'number of not counted ballots', \\\n",
    "          'Baburin', 'Grudinin', 'Zhirinovskyi', 'Putin', 'Sobchak', 'Suraikin', 'Titov', 'Yavlisky')"
   ]
  },
  {
   "cell_type": "code",
   "execution_count": 8,
   "metadata": {},
   "outputs": [
    {
     "name": "stdout",
     "output_type": "stream",
     "text": [
      "+--------------------+----------+------+--------------------+--------------------------+----------------------+-------------------------------+--------------------------------+-------------------------+-----------------------------------+-------------------------------------+-------------------------+-----------------------+----------------------+-----------------------------+-------+--------+------------+-----+-------+--------+-----+--------+\n",
      "|              Region|       TIK|   UIK|number of all voters|number of ballots received|number of early voting|number of ballots issued inside|number of ballots issued outside|number of blanked ballots|number of ballots in portable boxes|number of ballots in stationary boxes|number of invalid ballots|number of valid ballots|number of lost ballots|number of not counted ballots|Baburin|Grudinin|Zhirinovskyi|Putin|Sobchak|Suraikin|Titov|Yavlisky|\n",
      "+--------------------+----------+------+--------------------+--------------------------+----------------------+-------------------------------+--------------------------------+-------------------------+-----------------------------------+-------------------------------------+-------------------------+-----------------------+----------------------+-----------------------------+-------+--------+------------+-----+-------+--------+-----+--------+\n",
      "|Республика Адыгея...|Адыгейская|УИК №1|                2256|                      2181|                     0|                           2107|                              62|                       12|                                 62|                                 2107|                        3|                   2166|                     0|                            0|      0|     137|          32| 1977|     14|       0|    1|       5|\n",
      "|Республика Адыгея...|Адыгейская|УИК №2|                2700|                      2633|                     0|                           2575|                              41|                       17|                                 41|                                 2575|                       22|                   2594|                     0|                            0|     15|      86|          65| 2389|     13|       5|    6|      15|\n",
      "+--------------------+----------+------+--------------------+--------------------------+----------------------+-------------------------------+--------------------------------+-------------------------+-----------------------------------+-------------------------------------+-------------------------+-----------------------+----------------------+-----------------------------+-------+--------+------------+-----+-------+--------+-----+--------+\n",
      "only showing top 2 rows\n",
      "\n"
     ]
    }
   ],
   "source": [
    "dataframe.show(2)"
   ]
  },
  {
   "cell_type": "code",
   "execution_count": 9,
   "metadata": {
    "collapsed": true
   },
   "outputs": [],
   "source": [
    "sum_of_votes = ['Sum of early voting','Sum of inside voting','Sum of outside voting'] #для удобства"
   ]
  },
  {
   "cell_type": "code",
   "execution_count": 10,
   "metadata": {},
   "outputs": [
    {
     "name": "stdout",
     "output_type": "stream",
     "text": [
      "+--------------------+-----------------+-------------------+--------------------+---------------------+\n",
      "|              Region|Sum of all people|Sum of early voting|Sum of inside voting|Sum of outside voting|\n",
      "+--------------------+-----------------+-------------------+--------------------+---------------------+\n",
      "|        город Москва|          7543682|                  0|             4348576|               172779|\n",
      "|  Московская область|          5829578|                  0|             3540550|               167006|\n",
      "|  Краснодарский край|          4049575|                229|             2825178|               327900|\n",
      "|город Санкт-Петер...|          3632398|               1795|             2248088|                70251|\n",
      "|Свердловская область|          3345221|               3210|             2003456|                79001|\n",
      "|  Ростовская область|          3210796|                  0|             1920477|               159301|\n",
      "|Республика Башкор...|          3045698|                  0|             2186576|               111258|\n",
      "|Республика Татарс...|          2919482|                  0|             2155833|               104476|\n",
      "| Челябинская область|          2632596|                  0|             1641894|               106530|\n",
      "|Нижегородская обл...|          2618865|                403|             1595437|               132168|\n",
      "|   Самарская область|          2436024|                  0|             1522108|               107663|\n",
      "|Новосибирская обл...|          2159912|                  0|             1240320|                64418|\n",
      "|   Красноярский край|          2100869|               8991|             1200443|                58181|\n",
      "| Кемеровская область|          2005066|                591|             1535544|               132628|\n",
      "|       Пермский край|          1982962|               5520|             1211886|               101478|\n",
      "| Саратовская область|          1896735|                  0|             1149182|               112030|\n",
      "| Ставропольский край|          1882304|                  0|             1224354|               165692|\n",
      "|   Иркутская область|          1877547|                178|              995467|                50075|\n",
      "| Воронежская область|          1870895|                  0|             1059782|               148156|\n",
      "|      Алтайский край|          1822203|                 61|             1106745|                84824|\n",
      "|Волгоградская обл...|          1761088|                  0|             1062296|               137672|\n",
      "| Республика Дагестан|          1631826|                  0|             1395447|                32041|\n",
      "|      Омская область|          1535403|                  0|              877614|                51132|\n",
      "|Оренбургская область|          1518357|                381|              934617|                68462|\n",
      "|     Республика Крым|          1508701|                  0|             1024311|                55220|\n",
      "|     Приморский край|          1478748|               1498|              867578|                34697|\n",
      "|Ленинградская обл...|          1331507|                 55|              826203|                64370|\n",
      "|Белгородская область|          1218896|                  0|              806610|                86165|\n",
      "|    Тульская область|          1194044|                  0|              730170|                89645|\n",
      "|Удмуртская Респуб...|          1185303|                  0|              716357|                33586|\n",
      "+--------------------+-----------------+-------------------+--------------------+---------------------+\n",
      "only showing top 30 rows\n",
      "\n"
     ]
    }
   ],
   "source": [
    "#суммируем по необходимым полям\n",
    "df_result = dataframe.groupBy(\"Region\").agg(F.sum('number of all voters').alias(\"Sum of all people\"), \n",
    "                     F.sum('number of early voting').alias(\"Sum of early voting\"), \n",
    "                     F.sum('number of ballots issued inside').alias(\"Sum of inside voting\"), \n",
    "                     F.sum('number of ballots issued outside').alias(\"Sum of outside voting\")).sort('Sum of all people', ascending=False)\n",
    "df_result.show(30)"
   ]
  },
  {
   "cell_type": "code",
   "execution_count": 11,
   "metadata": {},
   "outputs": [
    {
     "name": "stdout",
     "output_type": "stream",
     "text": [
      "+--------------------+------------------+\n",
      "|              Region|       Percents(%)|\n",
      "+--------------------+------------------+\n",
      "|Территория за пре...|0.9806986984380843|\n",
      "|     Республика Тыва|0.9366369316170003|\n",
      "|Ямало-Ненецкий ав...|0.9190125747324195|\n",
      "|Кабардино-Балкарс...|0.9180157863562131|\n",
      "|Чеченская Республика|0.9154001705101918|\n",
      "|Республика Северн...|0.8998810071492768|\n",
      "| Республика Дагестан|0.8747795414462081|\n",
      "|Карачаево-Черкесс...|0.8740544668203033|\n",
      "| Кемеровская область|0.8322733516003962|\n",
      "|Чукотский автоном...|0.8228138695924391|\n",
      "|Республика Ингушетия|0.8195937165135314|\n",
      "|    Брянская область| 0.797078003370434|\n",
      "|   Тюменская область|0.7892544508025854|\n",
      "|  Краснодарский край|0.7786760339047925|\n",
      "| Республика Мордовия|0.7785708098460915|\n",
      "|Республика Татарс...|0.7742157684137118|\n",
      "|Чувашская Республ...|0.7622296238501433|\n",
      "|Республика Башкор...|0.7544523455707033|\n",
      "|  Республика Бурятия|0.7519978782127258|\n",
      "|Республика Адыгея...|0.7431189118555477|\n",
      "| Ставропольский край|0.7384811380095883|\n",
      "|  Пензенская область|0.7374614571776765|\n",
      "|Белгородская область|0.7324455901077697|\n",
      "|   Орловская область|0.7217424362426739|\n",
      "|    Липецкая область|0.7216306505495215|\n",
      "|  Тамбовская область|0.7204216465882577|\n",
      "| Магаданская область|0.7191160134858613|\n",
      "|     Республика Крым|0.7155367431982878|\n",
      "|   город Севастополь| 0.714362408188549|\n",
      "|Республика Саха (...|0.7099641806438786|\n",
      "+--------------------+------------------+\n",
      "only showing top 30 rows\n",
      "\n"
     ]
    }
   ],
   "source": [
    "#считаем процент людей, что проголосовали для каждого региона\n",
    "final_result = df_result.withColumn(\"Sum of people voted\", \n",
    "                                    reduce(add, [col(data) for data in sum_of_votes])) \\\n",
    "            .select('Region', 'Sum of all people','Sum of people voted').sort('Sum of all people')\\\n",
    "            .withColumn(\"Percents(%)\", col('Sum of people voted')/col('Sum of all people'))\\\n",
    "            .select('Region','Percents(%)')\\\n",
    "            .sort('Percents(%)', ascending=False)\n",
    "final_result.show(30)"
   ]
  },
  {
   "cell_type": "markdown",
   "metadata": {},
   "source": [
    "### 2.Участок, на котором любимый кандидат получил максимальный результат голосов"
   ]
  },
  {
   "cell_type": "code",
   "execution_count": 12,
   "metadata": {},
   "outputs": [
    {
     "name": "stdout",
     "output_type": "stream",
     "text": [
      "+--------------------+----+---------+-------------------+\n",
      "|              Region| TIK|      UIK|Max amount of votes|\n",
      "+--------------------+----+---------+-------------------+\n",
      "|Территория за пре...|None|УИК №8342|               7221|\n",
      "+--------------------+----+---------+-------------------+\n",
      "only showing top 1 row\n",
      "\n"
     ]
    }
   ],
   "source": [
    "favourite_candidat = 'Putin'\n",
    "n = 300\n",
    "#UIK = участок\n",
    "area = dataframe.filter(col(favourite_candidat) > n) \\\n",
    "                .select(\"Region\",\"TIK\",\"UIK\", favourite_candidat)\\\n",
    "                .groupBy(\"Region\",\"TIK\",\"UIK\")\\\n",
    "                .agg(F.max(favourite_candidat).alias('Max amount of votes'))\\\n",
    "                .sort(\"Max amount of votes\",  ascending=False)\n",
    "area.show(1)        "
   ]
  },
  {
   "cell_type": "code",
   "execution_count": 13,
   "metadata": {},
   "outputs": [
    {
     "name": "stdout",
     "output_type": "stream",
     "text": [
      "+--------------------+----+---------+-------------------+\n",
      "|              Region| TIK|      UIK|Max amount of votes|\n",
      "+--------------------+----+---------+-------------------+\n",
      "|Территория за пре...|None|УИК №8061|                868|\n",
      "+--------------------+----+---------+-------------------+\n",
      "only showing top 1 row\n",
      "\n"
     ]
    }
   ],
   "source": [
    "favourite_candidat = 'Sobchak'\n",
    "n = 300\n",
    "area = dataframe.filter(col(favourite_candidat) > n)\\\n",
    "                .select(\"Region\",\"TIK\",\"UIK\", favourite_candidat)\\\n",
    "                .groupBy(\"Region\",\"TIK\",\"UIK\")\\\n",
    "                .agg(F.max(favourite_candidat).alias('Max amount of votes'))\\\n",
    "                .sort(\"Max amount of votes\",  ascending=False)\n",
    "area.show(1)        "
   ]
  },
  {
   "cell_type": "markdown",
   "metadata": {},
   "source": [
    "### 3.Найти регион, где разница между ТИК с наибольшей явкой и наименьшей максимальна "
   ]
  },
  {
   "cell_type": "code",
   "execution_count": 14,
   "metadata": {},
   "outputs": [
    {
     "name": "stdout",
     "output_type": "stream",
     "text": [
      "+--------------+--------------------+------------+\n",
      "|        Region|                 TIK|sum of votes|\n",
      "+--------------+--------------------+------------+\n",
      "|Алтайский край|        Кытмановская|        7449|\n",
      "|Алтайский край|     Усть-Калманская|        7430|\n",
      "|Алтайский край|Новоалтайская гор...|       37312|\n",
      "|Алтайский край|     Быстроистокская|        4883|\n",
      "|Алтайский край|        Михайловская|        9724|\n",
      "|Алтайский край|          Солтонская|        4569|\n",
      "|Алтайский край|        Ребрихинская|       12023|\n",
      "|Алтайский край|       Третьяковская|        6950|\n",
      "|Алтайский край|         Шипуновская|       15066|\n",
      "|Алтайский край|          Курьинская|        5624|\n",
      "+--------------+--------------------+------------+\n",
      "only showing top 10 rows\n",
      "\n"
     ]
    }
   ],
   "source": [
    "# 1.находим ТИК с наибольшей явкой = А\n",
    "# 2.находим ТИК с наименьшея явкой = В\n",
    "# 3.находим макс (А-В)\n",
    "\n",
    "tiks = dataframe.groupBy(\"Region\", \"TIK\")\\\n",
    "            .agg(F.sum('number of all voters').alias(\"Sum of all people\"),\\\n",
    "                     F.sum('number of early voting').alias(\"Sum of early voting\"),\\\n",
    "                     F.sum('number of ballots issued inside').alias(\"Sum of inside voting\"),\\\n",
    "                     F.sum('number of ballots issued outside').alias(\"Sum of outside voting\"))\\\n",
    "            .withColumn('sum of votes', reduce(add, [col(data) for data in sum_of_votes]))\\\n",
    "            .select(\"Region\",\"TIK\",\"sum of votes\")\\\n",
    "            .sort(\"Region\")\n",
    "tiks.show(10)"
   ]
  },
  {
   "cell_type": "code",
   "execution_count": 15,
   "metadata": {},
   "outputs": [
    {
     "name": "stdout",
     "output_type": "stream",
     "text": [
      "+--------------------+----------+\n",
      "|              Region|Difference|\n",
      "+--------------------+----------+\n",
      "|   Самарская область|    196253|\n",
      "|Белгородская область|    179081|\n",
      "| Вологодская область|    170276|\n",
      "|Ханты-Мансийский ...|    165758|\n",
      "|  Московская область|    164009|\n",
      "|  Мурманская область|    153438|\n",
      "|Ленинградская обл...|    145311|\n",
      "| Саратовская область|    145021|\n",
      "|Республика Саха (...|    140985|\n",
      "|  Краснодарский край|    138053|\n",
      "+--------------------+----------+\n",
      "only showing top 10 rows\n",
      "\n"
     ]
    }
   ],
   "source": [
    "difference = tiks.groupBy(\"Region\")\\\n",
    "            .agg((F.max('sum of votes') - F.min('sum of votes')).alias(\"Difference\"))\\\n",
    "            .select(\"Region\",\"Difference\") \\\n",
    "            .sort('Difference', ascending=False) \n",
    "difference.show(10)"
   ]
  },
  {
   "cell_type": "code",
   "execution_count": 16,
   "metadata": {},
   "outputs": [
    {
     "name": "stdout",
     "output_type": "stream",
     "text": [
      "+-----------------+--------------+\n",
      "|           Region|Max difference|\n",
      "+-----------------+--------------+\n",
      "|Самарская область|        196253|\n",
      "+-----------------+--------------+\n",
      "only showing top 1 row\n",
      "\n"
     ]
    }
   ],
   "source": [
    "#просто как вариант найти максимум из полученной таблицы (можно было просто difference.show(1))\n",
    "result = difference.groupBy(\"Region\")\\\n",
    "        .agg(F.max('Difference').alias(\"Max difference\"))\\\n",
    "        .select(\"Region\",\"Max difference\")\\\n",
    "        .sort(\"Max difference\",ascending=False )\n",
    "result.show(1)"
   ]
  },
  {
   "cell_type": "markdown",
   "metadata": {},
   "source": [
    "### 4.Посчитать дисперсию по явке для каждого региона (учитывать УИК) "
   ]
  },
  {
   "cell_type": "code",
   "execution_count": 17,
   "metadata": {},
   "outputs": [
    {
     "name": "stdout",
     "output_type": "stream",
     "text": [
      "+--------------------+------------------+\n",
      "|              Region|              Disp|\n",
      "+--------------------+------------------+\n",
      "|Территория за пре...|1332.1533610371343|\n",
      "|Чеченская Республика| 779.5717067527229|\n",
      "|Ямало-Ненецкий ав...| 739.3290449083053|\n",
      "|Республика Северн...| 677.9089014204245|\n",
      "| Республика Дагестан| 657.2845481650245|\n",
      "|     Республика Тыва| 641.6682099770799|\n",
      "| Кемеровская область| 621.0871610694816|\n",
      "| Магаданская область| 614.8118916285795|\n",
      "|Кабардино-Балкарс...| 614.0460846716693|\n",
      "|    Брянская область| 592.4564291304056|\n",
      "|Республика Татарс...|  590.204202181367|\n",
      "|  Краснодарский край| 584.7406656698317|\n",
      "|Республика Ингушетия| 583.4284631176162|\n",
      "| Ставропольский край| 581.8625659348551|\n",
      "|Ненецкий автономн...| 581.5791490989569|\n",
      "|Республика Адыгея...| 572.8112314404023|\n",
      "| Вологодская область| 568.3088067686887|\n",
      "|   Калужская область| 561.2877773475237|\n",
      "|    Хабаровский край| 557.9241176416907|\n",
      "|     Камчатский край| 557.3660784564202|\n",
      "+--------------------+------------------+\n",
      "only showing top 20 rows\n",
      "\n"
     ]
    }
   ],
   "source": [
    "#суммруем необходимые показатели и считаем дисперсию\n",
    "disp = dataframe\\\n",
    "        .groupBy(\"Region\",\"TIK\",\"UIK\")\\\n",
    "        .agg(F.sum('number of all voters').alias(\"Sum of all people\"), \n",
    "                     F.sum('number of early voting').alias(\"Sum of early voting\"), \n",
    "                     F.sum('number of ballots issued inside').alias(\"Sum of inside voting\"), \n",
    "                     F.sum('number of ballots issued outside').alias(\"Sum of outside voting\"))\\\n",
    "        .withColumn(\"Sum of all people\", reduce(add, [col(data) for data in sum_of_votes])) \\\n",
    "        .select('Region','TIK', 'UIK','Sum of all people')\\\n",
    "        .groupBy(\"Region\")\\\n",
    "        .agg(F.stddev('Sum of all people').alias(\"Disp\"))\\\n",
    "        .sort(\"Disp\",ascending=False)\n",
    "        \n",
    "disp.show(20)"
   ]
  },
  {
   "cell_type": "markdown",
   "metadata": {},
   "source": [
    "### 5.Для каждого кандидата посчитать таблицу: результат (%, округленный до целого) количество УИК, на которых кандидат получил данный результат"
   ]
  },
  {
   "cell_type": "code",
   "execution_count": null,
   "metadata": {
    "collapsed": true
   },
   "outputs": [],
   "source": [
    "# 1.Считаем процент голосов за каждого кандидата относительно всего количества голосов - X\n",
    "# 2.Считаем процент голосов за каждого кандидата на каждом УИК - Y\n",
    "# 3.Ищем такие УИК, где X = Y и их количество по каждому президенту"
   ]
  },
  {
   "cell_type": "code",
   "execution_count": 18,
   "metadata": {},
   "outputs": [
    {
     "name": "stdout",
     "output_type": "stream",
     "text": [
      "+--------------------+-------+--------+------------+------+-------+--------+-----+--------+\n",
      "|              Region|Baburin|Grudinin|Zhirinovskyi| Putin|Sobchak|Suraikin|Titov|Yavlisky|\n",
      "+--------------------+-------+--------+------------+------+-------+--------+-----+--------+\n",
      "|      Алтайский край|   7581|  281978|       84785|770278|  11788|    7855| 5532|    7259|\n",
      "|    Амурская область|   2358|   73485|       37909|264493|   4428|    2466| 2080|    1951|\n",
      "|Архангельская обл...|   4448|   51868|       46925|407190|  10588|    3842| 4982|    6239|\n",
      "|Астраханская область|   2185|   64047|       19339|342195|   5060|    2823| 2233|    2504|\n",
      "|Белгородская область|   5218|   93102|       49685|711392|   8474|    6534| 4835|    4445|\n",
      "|    Брянская область|   4472|   68375|       43940|636087|   7463|    4265| 4175|    3524|\n",
      "|Владимирская область|   5440|   93649|       58822|546042|  10777|    5075| 6098|    6147|\n",
      "|Волгоградская обл...|   8040|  140708|       69909|929541|  14403|    8116| 6851|   10242|\n",
      "| Вологодская область|   5184|   75644|       54556|453576|  13365|    4567| 5333|    8048|\n",
      "| Воронежская область|   7830|  136435|       64905|952642|  13024|    8561| 7277|    7561|\n",
      "|Город Байконур (Р...|     32|    1026|         628|  7568|    130|      51|   50|      70|\n",
      "|Еврейская автоном...|    501|   14066|        7387| 52374|    771|     404|  407|     369|\n",
      "|  Забайкальский край|   2450|   62375|       45804|329911|   4750|    2772| 2111|    2095|\n",
      "|  Ивановская область|   4286|   70211|       37408|338335|   7772|    3526| 3696|    4142|\n",
      "|   Иркутская область|   5480|  166540|       67373|763810|  12646|    5240| 5339|    7545|\n",
      "|Кабардино-Балкарс...|   1222|   20133|        5006|452480|   1121|    1141| 1658|    1171|\n",
      "|Калининградская о...|   3384|   50522|       29651|377725|  12591|    3286| 4744|    7284|\n",
      "|   Калужская область|   4197|   59802|       37905|414027|   8070|    3943| 4200|    5071|\n",
      "|     Камчатский край|    912|   27432|       13733|112401|   2210|     966| 1131|    1159|\n",
      "|Карачаево-Черкесс...|    676|   17819|        7075|223534|   1132|    2533|  454|     747|\n",
      "+--------------------+-------+--------+------------+------+-------+--------+-----+--------+\n",
      "only showing top 20 rows\n",
      "\n"
     ]
    }
   ],
   "source": [
    "# Группируем по регионам\n",
    "regions_result = dataframe.groupBy(\"Region\")\\\n",
    "                .agg(F.sum('Baburin').alias('Baburin'),\\\n",
    "                    F.sum('Grudinin').alias('Grudinin'),\\\n",
    "                     F.sum('Zhirinovskyi').alias('Zhirinovskyi'),\\\n",
    "                     F.sum('Putin').alias('Putin'),\\\n",
    "                     F.sum('Sobchak').alias('Sobchak'),\\\n",
    "                     F.sum('Suraikin').alias('Suraikin'),\\\n",
    "                     F.sum('Titov').alias('Titov'),\\\n",
    "                     F.sum('Yavlisky').alias('Yavlisky'))\\\n",
    "                .sort(\"Region\", ascending=True)\n",
    "regions_result.show(20)"
   ]
  },
  {
   "cell_type": "code",
   "execution_count": 19,
   "metadata": {},
   "outputs": [
    {
     "name": "stdout",
     "output_type": "stream",
     "text": [
      "+-------+--------+------------+--------+-------+--------+------+--------+\n",
      "|Baburin|Grudinin|Zhirinovskyi|   Putin|Sobchak|Suraikin| Titov|Yavlisky|\n",
      "+-------+--------+------------+--------+-------+--------+------+--------+\n",
      "| 478983| 8658732|     4154638|56426399|1237921|  499287|556751|  769588|\n",
      "+-------+--------+------------+--------+-------+--------+------+--------+\n",
      "\n"
     ]
    }
   ],
   "source": [
    "# считаем сумму по всем регионам\n",
    "total = regions_result.agg(F.sum('Baburin').alias('Baburin'),F.sum('Grudinin').alias('Grudinin'),\\\n",
    "                           F.sum('Zhirinovskyi').alias('Zhirinovskyi'),F.sum('Putin').alias('Putin'),\\\n",
    "                           F.sum('Sobchak').alias('Sobchak'),F.sum('Suraikin').alias('Suraikin'),\\\n",
    "                           F.sum('Titov').alias('Titov'),F.sum('Yavlisky').alias('Yavlisky')\n",
    "                          )\n",
    "total.show()"
   ]
  },
  {
   "cell_type": "code",
   "execution_count": 20,
   "metadata": {
    "collapsed": true
   },
   "outputs": [],
   "source": [
    "candidates = ['Baburin','Grudinin','Zhirinovskyi', 'Putin','Sobchak','Suraikin', 'Titov','Yavlisky']"
   ]
  },
  {
   "cell_type": "code",
   "execution_count": 21,
   "metadata": {},
   "outputs": [
    {
     "name": "stdout",
     "output_type": "stream",
     "text": [
      "[Row(Baburin=478983, Grudinin=8658732, Zhirinovskyi=4154638, Putin=56426399, Sobchak=1237921, Suraikin=499287, Titov=556751, Yavlisky=769588, Total=72782299)]\n"
     ]
    }
   ],
   "source": [
    "# считаем общее количество\n",
    "total_amount = total.withColumn('Total', reduce(add, [col(candidat) for candidat in candidates])).collect()\n",
    "print(total_amount)"
   ]
  },
  {
   "cell_type": "code",
   "execution_count": 22,
   "metadata": {
    "collapsed": true
   },
   "outputs": [],
   "source": [
    "total = total_amount[0][len(total_amount[0]) - 1]\n",
    "total_amount = total_amount[0][:(len(total_amount[0])-1)]"
   ]
  },
  {
   "cell_type": "code",
   "execution_count": 23,
   "metadata": {},
   "outputs": [
    {
     "data": {
      "text/plain": [
       "(478983, 8658732, 4154638, 56426399, 1237921, 499287, 556751, 769588)"
      ]
     },
     "execution_count": 23,
     "metadata": {},
     "output_type": "execute_result"
    }
   ],
   "source": [
    "total_amount"
   ]
  },
  {
   "cell_type": "code",
   "execution_count": 24,
   "metadata": {},
   "outputs": [
    {
     "name": "stdout",
     "output_type": "stream",
     "text": [
      "[1, 12, 6, 78, 2, 1, 1, 1]\n"
     ]
    }
   ],
   "source": [
    "#процент голосов за каждого кандидата относительно всего количества голосов - X\n",
    "X = [round(int(amount)/int(total)*100) for amount in total_amount]\n",
    "print(X)"
   ]
  },
  {
   "cell_type": "code",
   "execution_count": 25,
   "metadata": {},
   "outputs": [
    {
     "name": "stdout",
     "output_type": "stream",
     "text": [
      "+--------------+---------+-------+--------+------------+-----+-------+--------+-----+--------+\n",
      "|        Region|      UIK|Baburin|Grudinin|Zhirinovskyi|Putin|Sobchak|Suraikin|Titov|Yavlisky|\n",
      "+--------------+---------+-------+--------+------------+-----+-------+--------+-----+--------+\n",
      "|Алтайский край| УИК №177|     14|     337|          90|  907|     14|      15|    5|       7|\n",
      "|Алтайский край| УИК №473|      4|     345|          77|  676|      5|       9|    5|       5|\n",
      "|Алтайский край| УИК №361|      3|     160|          42|  414|      3|       2|    2|       6|\n",
      "|Алтайский край| УИК №379|     13|     394|          84|  836|     16|      13|   11|      15|\n",
      "|Алтайский край|УИК №1518|      2|     119|          31|  334|      2|       0|    0|       2|\n",
      "|Алтайский край|УИК №1314|      1|      16|           8|   72|      0|       1|    0|       0|\n",
      "|Алтайский край| УИК №925|      1|       9|           2|  102|      1|       0|    0|       2|\n",
      "|Алтайский край|УИК №1406|      2|      41|          17|  137|      1|       1|    1|       1|\n",
      "|Алтайский край| УИК №468|      8|     402|          78|  777|      5|       8|    8|      10|\n",
      "|Алтайский край|УИК №1834|      2|      12|           8|   28|      0|       1|    0|       0|\n",
      "+--------------+---------+-------+--------+------------+-----+-------+--------+-----+--------+\n",
      "only showing top 10 rows\n",
      "\n"
     ]
    }
   ],
   "source": [
    "\n",
    "uiks = dataframe.groupBy(\"Region\",\"UIK\")\\\n",
    "                .agg(F.sum('Baburin').alias('Baburin'),\\\n",
    "                    F.sum('Grudinin').alias('Grudinin'),\\\n",
    "                     F.sum('Zhirinovskyi').alias('Zhirinovskyi'),\\\n",
    "                     F.sum('Putin').alias('Putin'),\\\n",
    "                     F.sum('Sobchak').alias('Sobchak'),\\\n",
    "                     F.sum('Suraikin').alias('Suraikin'),\\\n",
    "                     F.sum('Titov').alias('Titov'),\\\n",
    "                     F.sum('Yavlisky').alias('Yavlisky'))\\\n",
    "                .sort(\"Region\", ascending=True)\n",
    "uiks.show(10)"
   ]
  },
  {
   "cell_type": "code",
   "execution_count": 26,
   "metadata": {},
   "outputs": [
    {
     "name": "stdout",
     "output_type": "stream",
     "text": [
      "+--------------+---------+-------+--------+------------+-----+-------+--------+-----+--------+-----+\n",
      "|        Region|      UIK|Baburin|Grudinin|Zhirinovskyi|Putin|Sobchak|Suraikin|Titov|Yavlisky|Total|\n",
      "+--------------+---------+-------+--------+------------+-----+-------+--------+-----+--------+-----+\n",
      "|Алтайский край|УИК №1598|      0|       1|          21|   41|      0|       0|    0|       0|   63|\n",
      "|Алтайский край|УИК №1556|      1|      61|          39|  284|      2|       1|    3|       2|  393|\n",
      "|Алтайский край| УИК №573|      6|      62|          34|  271|      2|       3|    2|       0|  380|\n",
      "|Алтайский край| УИК №787|      8|     205|          56|  607|      8|       7|    2|       1|  894|\n",
      "|Алтайский край|  УИК №74|      6|     249|         106|  682|     12|       8|    5|       9| 1077|\n",
      "|Алтайский край| УИК №929|      2|      33|          25|  252|      2|       1|    0|       0|  315|\n",
      "|Алтайский край| УИК №791|      0|      28|          30|  229|      1|       1|    1|       1|  291|\n",
      "|Алтайский край| УИК №377|      3|     138|          44|  459|      2|      10|    0|       3|  659|\n",
      "|Алтайский край| УИК №845|      0|      14|           6|   44|      0|       0|    0|       0|   64|\n",
      "|Алтайский край|УИК №1025|      2|      38|          28|  284|      0|       8|    0|       1|  361|\n",
      "|Алтайский край| УИК №529|      7|     296|          71|  547|      2|       4|    4|       3|  934|\n",
      "|Алтайский край| УИК №535|      5|     136|          61|  442|      1|       3|    2|       0|  650|\n",
      "|Алтайский край|УИК №1687|      5|      51|          45|  297|      1|       1|    2|       1|  403|\n",
      "|Алтайский край|УИК №1752|      1|      21|          17|   96|      1|       0|    0|       0|  136|\n",
      "|Алтайский край| УИК №956|      4|     167|          53|  402|      0|       1|    2|       1|  630|\n",
      "|Алтайский край| УИК №992|      1|       8|          22|   83|      2|       0|    0|       0|  116|\n",
      "|Алтайский край| УИК №817|      0|       5|           8|   30|      1|       3|    1|       0|   48|\n",
      "|Алтайский край|УИК №1075|      3|      83|          43|  495|     10|       4|    2|       3|  643|\n",
      "|Алтайский край| УИК №167|      7|     327|          85|  862|     31|      16|    8|      18| 1354|\n",
      "|Алтайский край|УИК №1359|      0|      26|           7|   86|      1|       0|    0|       0|  120|\n",
      "+--------------+---------+-------+--------+------------+-----+-------+--------+-----+--------+-----+\n",
      "only showing top 20 rows\n",
      "\n"
     ]
    }
   ],
   "source": [
    "#считаем общее количество голосов для каждой УИК \n",
    "sum_uik = uiks.withColumn('Total', reduce(add, [col(candidat) for candidat in candidates]))\n",
    "sum_uik.show()"
   ]
  },
  {
   "cell_type": "code",
   "execution_count": 27,
   "metadata": {
    "collapsed": true
   },
   "outputs": [],
   "source": [
    "uik_voting = sum_uik.createOrReplaceTempView('uik_voting')"
   ]
  },
  {
   "cell_type": "code",
   "execution_count": 28,
   "metadata": {},
   "outputs": [
    {
     "name": "stdout",
     "output_type": "stream",
     "text": [
      "+--------------+---------+-------+--------+------------+-----+-------+--------+-----+--------+\n",
      "|        Region|      UIK|Baburin|Grudinin|Zhirinovskyi|Putin|Sobchak|Suraikin|Titov|Yavlisky|\n",
      "+--------------+---------+-------+--------+------------+-----+-------+--------+-----+--------+\n",
      "|Алтайский край| УИК №489|      1|      28|           7|   63|      0|       1|    0|       1|\n",
      "|Алтайский край|УИК №1271|      0|      26|           8|   63|      0|       2|    2|       0|\n",
      "|Алтайский край| УИК №550|      1|      23|           7|   66|      1|       1|    1|       1|\n",
      "|Алтайский край|УИК №1472|      0|      29|          10|   59|      1|       1|    0|       0|\n",
      "|Алтайский край|  УИК №74|      1|      23|          10|   63|      1|       1|    0|       1|\n",
      "|Алтайский край|УИК №1556|      0|      16|          10|   72|      1|       0|    1|       1|\n",
      "|Алтайский край| УИК №636|      0|      25|           5|   67|      1|       0|    1|       0|\n",
      "|Алтайский край|УИК №1598|      0|       2|          33|   65|      0|       0|    0|       0|\n",
      "|Алтайский край| УИК №787|      1|      23|           6|   68|      1|       1|    0|       0|\n",
      "|Алтайский край|УИК №1684|      0|      11|           8|   79|      1|       0|    0|       0|\n",
      "+--------------+---------+-------+--------+------------+-----+-------+--------+-----+--------+\n",
      "only showing top 10 rows\n",
      "\n"
     ]
    }
   ],
   "source": [
    "#для каждого уик считаем процент\n",
    "percent = spark.sql(\"\"\"SELECT Region, UIK,\n",
    "int(round(Baburin / Total * 100)) as Baburin, \n",
    "int(round(Grudinin / Total * 100)) as Grudinin,\n",
    "int(round(Zhirinovskyi / Total * 100)) as Zhirinovskyi, \n",
    "int(round(Putin / Total * 100)) as Putin, \n",
    "int(round(Sobchak / Total * 100)) as Sobchak, \n",
    "int(round(Suraikin / Total * 100)) as Suraikin, \n",
    "int(round(Titov / Total * 100)) as Titov, \n",
    "int(round(Yavlisky / Total * 100)) as Yavlisky\n",
    "FROM uik_voting\"\"\")\n",
    "\n",
    "percent.show(10)\n",
    "percent.createOrReplaceTempView('uik_percent')"
   ]
  },
  {
   "cell_type": "code",
   "execution_count": 68,
   "metadata": {
    "collapsed": true
   },
   "outputs": [],
   "source": [
    "# 1.Выбираем УИК, где значения совпадают с результатом\n",
    "baburin_data = spark.sql(\"\"\"SELECT UIK,Baburin\n",
    "FROM uik_percent \n",
    "WHERE Baburin =\"\"\"+str(X[0]))\n",
    "\n",
    "grudinin_data = spark.sql(\"\"\"SELECT UIK,Grudinin\n",
    "FROM uik_percent \n",
    "WHERE Grudinin = \"\"\"+str(X[1]))\n",
    "\n",
    "zhirinovskyi_data = spark.sql(\"\"\"SELECT UIK,Zhirinovskyi\n",
    "FROM uik_percent \n",
    "WHERE Zhirinovskyi = \"\"\"+str(X[2]))\n",
    "\n",
    "putin_data = spark.sql(\"\"\"SELECT UIK,Putin\n",
    "FROM uik_percent \n",
    "WHERE Putin = \"\"\"+str(X[3]))\n",
    "\n",
    "sobchak_data = spark.sql(\"\"\"SELECT UIK,Sobchak\n",
    "FROM uik_percent \n",
    "WHERE Sobchak = \"\"\"+str(X[4]))\n",
    "\n",
    "suraikin_data = spark.sql(\"\"\"SELECT UIK,Suraikin\n",
    "FROM uik_percent \n",
    "WHERE Suraikin = \"\"\"+str(X[5]))\n",
    "\n",
    "titov_data = spark.sql(\"\"\"SELECT UIK,Titov\n",
    "FROM uik_percent \n",
    "WHERE  Titov = \"\"\"+str(X[6]))\n",
    "\n",
    "yavlisky_data = spark.sql(\"\"\"SELECT UIK,Yavlisky\n",
    "FROM uik_percent \n",
    "WHERE Yavlisky = \"\"\"+str(X[7]))"
   ]
  },
  {
   "cell_type": "code",
   "execution_count": 69,
   "metadata": {},
   "outputs": [
    {
     "name": "stdout",
     "output_type": "stream",
     "text": [
      "+---------+-------+\n",
      "|      UIK|Baburin|\n",
      "+---------+-------+\n",
      "|УИК №1314|      1|\n",
      "| УИК №169|      1|\n",
      "| УИК №824|      1|\n",
      "| УИК №859|      1|\n",
      "| УИК №490|      1|\n",
      "| УИК №922|      1|\n",
      "| УИК №211|      1|\n",
      "|УИК №1704|      1|\n",
      "|УИК №1758|      1|\n",
      "| УИК №206|      1|\n",
      "| УИК №727|      1|\n",
      "|УИК №1399|      1|\n",
      "| УИК №609|      1|\n",
      "| УИК №709|      1|\n",
      "| УИК №176|      1|\n",
      "|УИК №1145|      1|\n",
      "| УИК №333|      1|\n",
      "| УИК №705|      1|\n",
      "|УИК №1292|      1|\n",
      "|УИК №1192|      1|\n",
      "+---------+-------+\n",
      "only showing top 20 rows\n",
      "\n"
     ]
    }
   ],
   "source": [
    "baburin_data.show()\n",
    "baburin_data.createOrReplaceTempView('baburin_data')"
   ]
  },
  {
   "cell_type": "code",
   "execution_count": 70,
   "metadata": {},
   "outputs": [
    {
     "name": "stdout",
     "output_type": "stream",
     "text": [
      "+---------+--------+\n",
      "|      UIK|Grudinin|\n",
      "+---------+--------+\n",
      "|УИК №1054|      12|\n",
      "|УИК №1576|      12|\n",
      "|УИК №1012|      12|\n",
      "| УИК №823|      12|\n",
      "| УИК №836|      12|\n",
      "|УИК №1096|      12|\n",
      "|УИК №1487|      12|\n",
      "| УИК №854|      12|\n",
      "|УИК №1274|      12|\n",
      "|УИК №1272|      12|\n",
      "| УИК №795|      12|\n",
      "|УИК №1703|      12|\n",
      "|УИК №1686|      12|\n",
      "|УИК №1130|      12|\n",
      "|УИК №1653|      12|\n",
      "| УИК №558|      12|\n",
      "|УИК №1267|      12|\n",
      "|УИК №1040|      12|\n",
      "|УИК №1278|      12|\n",
      "| УИК №537|      12|\n",
      "+---------+--------+\n",
      "only showing top 20 rows\n",
      "\n"
     ]
    }
   ],
   "source": [
    "grudinin_data.show()\n",
    "grudinin_data.createOrReplaceTempView('grudinin_data')"
   ]
  },
  {
   "cell_type": "code",
   "execution_count": 71,
   "metadata": {},
   "outputs": [
    {
     "name": "stdout",
     "output_type": "stream",
     "text": [
      "+---------+------------+\n",
      "|      UIK|Zhirinovskyi|\n",
      "+---------+------------+\n",
      "| УИК №367|           6|\n",
      "|УИК №1145|           6|\n",
      "|УИК №1030|           6|\n",
      "| УИК №468|           6|\n",
      "|УИК №1647|           6|\n",
      "|УИК №1214|           6|\n",
      "| УИК №295|           6|\n",
      "| УИК №177|           6|\n",
      "|УИК №1316|           6|\n",
      "| УИК №176|           6|\n",
      "|УИК №1359|           6|\n",
      "| УИК №982|           6|\n",
      "|УИК №1518|           6|\n",
      "|УИК №1137|           6|\n",
      "| УИК №379|           6|\n",
      "|УИК №1292|           6|\n",
      "| УИК №787|           6|\n",
      "| УИК №169|           6|\n",
      "| УИК №167|           6|\n",
      "| УИК №314|           6|\n",
      "+---------+------------+\n",
      "only showing top 20 rows\n",
      "\n"
     ]
    }
   ],
   "source": [
    "zhirinovskyi_data.show()\n",
    "zhirinovskyi_data.createOrReplaceTempView('zhirinovskyi_data')"
   ]
  },
  {
   "cell_type": "code",
   "execution_count": 72,
   "metadata": {},
   "outputs": [
    {
     "name": "stdout",
     "output_type": "stream",
     "text": [
      "+---------+-----+\n",
      "|      UIK|Putin|\n",
      "+---------+-----+\n",
      "|УИК №1717|   78|\n",
      "| УИК №966|   78|\n",
      "|УИК №1296|   78|\n",
      "| УИК №590|   78|\n",
      "|УИК №1546|   78|\n",
      "|УИК №1576|   78|\n",
      "| УИК №917|   78|\n",
      "| УИК №854|   78|\n",
      "| УИК №893|   78|\n",
      "|УИК №1650|   78|\n",
      "| УИК №884|   78|\n",
      "| УИК №584|   78|\n",
      "|УИК №1455|   78|\n",
      "| УИК №959|   78|\n",
      "| УИК №970|   78|\n",
      "| УИК №832|   78|\n",
      "| УИК №808|   78|\n",
      "|УИК №1487|   78|\n",
      "|УИК №1040|   78|\n",
      "|УИК №1060|   78|\n",
      "+---------+-----+\n",
      "only showing top 20 rows\n",
      "\n"
     ]
    }
   ],
   "source": [
    "putin_data.show()\n",
    "putin_data.createOrReplaceTempView('putin_data')"
   ]
  },
  {
   "cell_type": "code",
   "execution_count": 73,
   "metadata": {},
   "outputs": [
    {
     "name": "stdout",
     "output_type": "stream",
     "text": [
      "+---------+-------+\n",
      "|      UIK|Sobchak|\n",
      "+---------+-------+\n",
      "|УИК №1130|      2|\n",
      "| УИК №147|      2|\n",
      "| УИК №171|      2|\n",
      "| УИК №295|      2|\n",
      "| УИК №919|      2|\n",
      "| УИК №199|      2|\n",
      "|УИК №1826|      2|\n",
      "| УИК №992|      2|\n",
      "| УИК №354|      2|\n",
      "|УИК №1137|      2|\n",
      "|УИК №1541|      2|\n",
      "| УИК №217|      2|\n",
      "| УИК №132|      2|\n",
      "| УИК №239|      2|\n",
      "| УИК №167|      2|\n",
      "| УИК №115|      2|\n",
      "|УИК №1075|      2|\n",
      "| УИК №817|      2|\n",
      "|УИК №1883|      2|\n",
      "| УИК №614|      2|\n",
      "+---------+-------+\n",
      "only showing top 20 rows\n",
      "\n"
     ]
    }
   ],
   "source": [
    "sobchak_data.show()\n",
    "sobchak_data.createOrReplaceTempView('sobchak_data')"
   ]
  },
  {
   "cell_type": "code",
   "execution_count": 74,
   "metadata": {},
   "outputs": [
    {
     "name": "stdout",
     "output_type": "stream",
     "text": [
      "+---------+--------+\n",
      "|      UIK|Suraikin|\n",
      "+---------+--------+\n",
      "|УИК №1220|       1|\n",
      "| УИК №593|       1|\n",
      "| УИК №211|       1|\n",
      "|УИК №1898|       1|\n",
      "| УИК №177|       1|\n",
      "| УИК №727|       1|\n",
      "|УИК №1647|       1|\n",
      "|  УИК №74|       1|\n",
      "| УИК №167|       1|\n",
      "| УИК №787|       1|\n",
      "| УИК №489|       1|\n",
      "|УИК №1017|       1|\n",
      "|УИК №1472|       1|\n",
      "|УИК №1075|       1|\n",
      "| УИК №115|       1|\n",
      "|УИК №1221|       1|\n",
      "| УИК №573|       1|\n",
      "| УИК №562|       1|\n",
      "| УИК №550|       1|\n",
      "| УИК №132|       1|\n",
      "+---------+--------+\n",
      "only showing top 20 rows\n",
      "\n"
     ]
    }
   ],
   "source": [
    "suraikin_data.show()\n",
    "suraikin_data.createOrReplaceTempView('suraikin_data')"
   ]
  },
  {
   "cell_type": "code",
   "execution_count": 75,
   "metadata": {},
   "outputs": [
    {
     "name": "stdout",
     "output_type": "stream",
     "text": [
      "+---------+-----+\n",
      "|      UIK|Titov|\n",
      "+---------+-----+\n",
      "|УИК №1904|    1|\n",
      "| УИК №479|    1|\n",
      "| УИК №239|    1|\n",
      "| УИК №169|    1|\n",
      "|УИК №1455|    1|\n",
      "| УИК №167|    1|\n",
      "| УИК №468|    1|\n",
      "| УИК №573|    1|\n",
      "| УИК №982|    1|\n",
      "|УИК №1085|    1|\n",
      "| УИК №636|    1|\n",
      "| УИК №211|    1|\n",
      "| УИК №569|    1|\n",
      "| УИК №379|    1|\n",
      "|УИК №1556|    1|\n",
      "| УИК №176|    1|\n",
      "| УИК №550|    1|\n",
      "| УИК №520|    1|\n",
      "|УИК №1196|    1|\n",
      "| УИК №131|    1|\n",
      "+---------+-----+\n",
      "only showing top 20 rows\n",
      "\n"
     ]
    }
   ],
   "source": [
    "titov_data.show()\n",
    "titov_data.createOrReplaceTempView('titov_data')"
   ]
  },
  {
   "cell_type": "code",
   "execution_count": 76,
   "metadata": {},
   "outputs": [
    {
     "name": "stdout",
     "output_type": "stream",
     "text": [
      "+---------+--------+\n",
      "|      UIK|Yavlisky|\n",
      "+---------+--------+\n",
      "| УИК №468|       1|\n",
      "|УИК №1145|       1|\n",
      "| УИК №132|       1|\n",
      "| УИК №489|       1|\n",
      "| УИК №167|       1|\n",
      "| УИК №569|       1|\n",
      "|УИК №1556|       1|\n",
      "| УИК №922|       1|\n",
      "| УИК №211|       1|\n",
      "|УИК №1196|       1|\n",
      "| УИК №616|       1|\n",
      "| УИК №177|       1|\n",
      "| УИК №115|       1|\n",
      "| УИК №550|       1|\n",
      "|  УИК №74|       1|\n",
      "| УИК №520|       1|\n",
      "| УИК №131|       1|\n",
      "| УИК №176|       1|\n",
      "| УИК №727|       1|\n",
      "| УИК №724|       1|\n",
      "+---------+--------+\n",
      "only showing top 20 rows\n",
      "\n"
     ]
    }
   ],
   "source": [
    "yavlisky_data.show()\n",
    "yavlisky_data.createOrReplaceTempView('yavlisky_data')"
   ]
  },
  {
   "cell_type": "code",
   "execution_count": 86,
   "metadata": {
    "collapsed": true
   },
   "outputs": [],
   "source": [
    "#считаем их количество\n",
    "baburin = spark.sql(\"\"\"SELECT count(UIK)\n",
    "FROM baburin_data\"\"\").collect()\n",
    "grudinin = spark.sql(\"\"\"SELECT count(UIK)\n",
    "FROM grudinin_data\"\"\").collect()\n",
    "zhirinovskyi = spark.sql(\"\"\"SELECT count(UIK)\n",
    "FROM zhirinovskyi_data\"\"\").collect()\n",
    "putin = spark.sql(\"\"\"SELECT count(UIK)\n",
    "FROM putin_data\"\"\").collect()\n",
    "sobchak = spark.sql(\"\"\"SELECT count(UIK)\n",
    "FROM sobchak_data\"\"\").collect()\n",
    "suraikin = spark.sql(\"\"\"SELECT count(UIK)\n",
    "FROM suraikin_data\"\"\").collect()\n",
    "yavlisky = spark.sql(\"\"\"SELECT count(UIK)\n",
    "FROM yavlisky_data\"\"\").collect()\n",
    "titov = spark.sql(\"\"\"SELECT count(UIK) FROM titov_data\"\"\").collect()\n"
   ]
  },
  {
   "cell_type": "code",
   "execution_count": 107,
   "metadata": {},
   "outputs": [],
   "source": [
    "baburin = baburin[0][0]\n",
    "grudinin = grudinin[0][0]\n",
    "zhirinovskyi = zhirinovskyi[0][0]\n",
    "putin = putin[0][0]\n",
    "sobchak = sobchak[0][0]\n",
    "suraikin = suraikin[0][0]\n",
    "yavlisky = yavlisky[0][0]\n",
    "titov = titov[0][0]"
   ]
  },
  {
   "cell_type": "code",
   "execution_count": 124,
   "metadata": {},
   "outputs": [],
   "source": [
    "columns = [\"Title\",\"Baburin\",\"Grudinin\",\"Zhirinovskyi\",\"Putin\",\"Sobchak\",\"Suraikin\",\"Yavlisky\",\"Titov\"]\n",
    "data = [('Result (в %)',X[0],X[1],X[2],X[3],X[4],X[5],X[6],X[7]),('UIK count',baburin,grudinin,zhirinovskyi,putin,sobchak,suraikin,yavlisky,titov)]"
   ]
  },
  {
   "cell_type": "code",
   "execution_count": 125,
   "metadata": {},
   "outputs": [
    {
     "name": "stdout",
     "output_type": "stream",
     "text": [
      "+------------+-------+--------+------------+-----+-------+--------+--------+-----+\n",
      "|       Title|Baburin|Grudinin|Zhirinovskyi|Putin|Sobchak|Suraikin|Yavlisky|Titov|\n",
      "+------------+-------+--------+------------+-----+-------+--------+--------+-----+\n",
      "|Result (в %)|      1|      12|           6|   78|      2|       1|       1|    1|\n",
      "|   UIK count|  48189|    7798|       13590| 4781|  18667|   49149|   30892|40154|\n",
      "+------------+-------+--------+------------+-----+-------+--------+--------+-----+\n",
      "\n"
     ]
    }
   ],
   "source": [
    "#формируем итоговую таблицу\n",
    "result = spark.createDataFrame(data, columns)\n",
    "result.show()"
   ]
  }
 ],
 "metadata": {
  "kernelspec": {
   "display_name": "Python 3",
   "language": "python",
   "name": "python3"
  },
  "language_info": {
   "codemirror_mode": {
    "name": "ipython",
    "version": 3
   },
   "file_extension": ".py",
   "mimetype": "text/x-python",
   "name": "python",
   "nbconvert_exporter": "python",
   "pygments_lexer": "ipython3",
   "version": "3.6.7"
  }
 },
 "nbformat": 4,
 "nbformat_minor": 2
}
