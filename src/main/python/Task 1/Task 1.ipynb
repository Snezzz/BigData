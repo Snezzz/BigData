{
 "cells": [
  {
   "cell_type": "code",
   "execution_count": 1,
   "metadata": {
    "collapsed": true
   },
   "outputs": [],
   "source": [
    "import mmap\n",
    "import os\n",
    "import random\n",
    "import numpy as np\n",
    "import time\n",
    "from concurrent.futures import ThreadPoolExecutor\n",
    "import concurrent.futures"
   ]
  },
  {
   "cell_type": "code",
   "execution_count": 2,
   "metadata": {
    "collapsed": true
   },
   "outputs": [],
   "source": [
    "def get_time(fun):\n",
    "    start_time = time.clock()\n",
    "    fun()\n",
    "    final_time = time.clock() - start_time\n",
    "    return str(final_time) + \" seconds\""
   ]
  },
  {
   "cell_type": "markdown",
   "metadata": {},
   "source": [
    "### Генерация массива из целых 32х разрядных беззнаковых чисел"
   ]
  },
  {
   "cell_type": "code",
   "execution_count": 3,
   "metadata": {
    "collapsed": true
   },
   "outputs": [],
   "source": [
    "#length = 100000000\n",
    "f_name_test = 'data_test.txt'\n",
    "f_name = 'data.txt'"
   ]
  },
  {
   "cell_type": "code",
   "execution_count": 4,
   "metadata": {
    "collapsed": true
   },
   "outputs": [],
   "source": [
    "def write(fn):\n",
    "    with open(fn, 'wb') as f:\n",
    "        arr = np.random.randint(2, length, size=length//4, dtype = np.dtype('uint32')).newbyteorder('B').byteswap()                        \n",
    "        f.write(arr.data)\n",
    "        f.close()"
   ]
  },
  {
   "cell_type": "code",
   "execution_count": 5,
   "metadata": {
    "collapsed": true
   },
   "outputs": [],
   "source": [
    "length = 10000\n",
    "write(f_name_test)"
   ]
  },
  {
   "cell_type": "markdown",
   "metadata": {},
   "source": [
    "### Последовательные вычисления"
   ]
  },
  {
   "cell_type": "code",
   "execution_count": 5,
   "metadata": {
    "collapsed": true
   },
   "outputs": [],
   "source": [
    "def sequential_method():\n",
    "    with open(f_name, 'r+b') as f:\n",
    "        buf = f.read()\n",
    "        data = np.frombuffer(buf, dtype=np.dtype('uint32').newbyteorder('B'))\n",
    "        min_el, max_el, final_sum = make_calculation(data)\n",
    "        f.close()"
   ]
  },
  {
   "cell_type": "code",
   "execution_count": 6,
   "metadata": {
    "collapsed": true
   },
   "outputs": [],
   "source": [
    "def make_calculation(data):\n",
    "\n",
    "    global min_el\n",
    "    global max_el\n",
    "    global final_sum\n",
    "    i = 0\n",
    "    for num in data:\n",
    "        if num < min_el:\n",
    "            min_el = num\n",
    "        if num > max_el:\n",
    "            max_el = num\n",
    "        final_sum += num\n",
    "        i+=1\n",
    "    print(\"min element:\",min_el)\n",
    "    print(\"max element:\",max_el)\n",
    "    print(\"sum of elements:\",final_sum)\n",
    "    return [min_el, max_el, final_sum]"
   ]
  },
  {
   "cell_type": "markdown",
   "metadata": {},
   "source": [
    "### MMF"
   ]
  },
  {
   "cell_type": "code",
   "execution_count": 19,
   "metadata": {
    "collapsed": true
   },
   "outputs": [],
   "source": [
    "def calculations(mm,l):   \n",
    "    \n",
    "    global final_sum\n",
    "    global max_el\n",
    "    global min_el\n",
    "    \n",
    "    for i in range(0, l):\n",
    "        arr = mm[i*32: (i+1)*32]\n",
    "        for el in arr:\n",
    "            if el > max_el:\n",
    "                max_el = el\n",
    "            if el < min_el:\n",
    "                min_el = el                    \n",
    "            final_sum += el"
   ]
  },
  {
   "cell_type": "code",
   "execution_count": 18,
   "metadata": {
    "collapsed": true
   },
   "outputs": [],
   "source": [
    "def thread_calculations(mm,l):   \n",
    "    \n",
    "    finalSum = 0\n",
    "    global max_el\n",
    "    global min_el\n",
    "    \n",
    "    for i in range(0, l):\n",
    "        arr = mm[i*32: (i+1)*32]\n",
    "        for el in arr:\n",
    "            if el > max_el:\n",
    "                max_el = el\n",
    "            if el < min_el:\n",
    "                min_el = el                    \n",
    "            finalSum += el\n",
    "    #print(finalsum)\n",
    "    return finalSum"
   ]
  },
  {
   "cell_type": "code",
   "execution_count": 8,
   "metadata": {
    "collapsed": true
   },
   "outputs": [],
   "source": [
    "def make_calculation_mmf():\n",
    "    try:  \n",
    "         with open(f_name, 'r+b') as f:\n",
    "                buf = mmap.mmap(f.fileno(), length=length, offset=0, access=mmap.ACCESS_READ)\n",
    "                array = np.frombuffer(buf, dtype=np.dtype('uint32').newbyteorder('B'))\n",
    "                calculations(array,length)\n",
    "    finally:\n",
    "        print(\"min element:\",min_el)\n",
    "        print(\"max element:\",max_el)\n",
    "        print(\"sum of elements:\",final_sum)"
   ]
  },
  {
   "cell_type": "markdown",
   "metadata": {},
   "source": [
    "### Threads + MMF"
   ]
  },
  {
   "cell_type": "code",
   "execution_count": 9,
   "metadata": {
    "collapsed": true
   },
   "outputs": [],
   "source": [
    "import threading"
   ]
  },
  {
   "cell_type": "code",
   "execution_count": 20,
   "metadata": {
    "collapsed": true
   },
   "outputs": [],
   "source": [
    "def make_threads(count, mm, el_count):\n",
    "    l = el_count//count\n",
    "    indexA = 0 \n",
    "    indexB = l\n",
    "    i = 1;\n",
    "  #not interesting \n",
    "    #for thread in range(0,count):\n",
    "     #   if thread == count-1:\n",
    "      #      threads.append(threading.Thread(target=calculations, args=(mm[indexA:], length)))\n",
    "       # else:\n",
    "        #    threads.append(threading.Thread(target=calculations, args=(mm[indexA:indexB], length)))\n",
    "        #indexA = i * length;\n",
    "        #i+=1\n",
    "        #indexB = i * length;\n",
    "    \n",
    "   # for thread in threads:\n",
    "    #    thread.start()\n",
    "    #for thread in threads:\n",
    "     #   thread.join()\n",
    "    \n",
    "    #interesting\n",
    "    executor = ThreadPoolExecutor(max_workers=count)\n",
    "    futures = []\n",
    "    for future_num in range(0,count):\n",
    "        if future_num == count-1:\n",
    "            futures.append(executor.submit(thread_calculations, mm[indexA:], l))\n",
    "        else:\n",
    "            futures.append(executor.submit(thread_calculations, mm[indexA:indexB], l))\n",
    "        indexA = i * l;\n",
    "        i+=1\n",
    "        indexB = i * l;\n",
    "    return futures"
   ]
  },
  {
   "cell_type": "code",
   "execution_count": 23,
   "metadata": {
    "collapsed": true
   },
   "outputs": [],
   "source": [
    "def make_calculation_mmf_threads():\n",
    "    final_sum = 0\n",
    "    futures = []\n",
    "    try:\n",
    "        with open(f_name, 'r+b') as f:\n",
    "                buff = mmap.mmap(f.fileno(), length=length, offset=0, access=mmap.ACCESS_READ)\n",
    "                array = np.frombuffer(buff, dtype=np.dtype('uint32').newbyteorder('B'))\n",
    "                futures = make_threads(threads_count, array, length)\n",
    "    finally:\n",
    "        results = [fut.result() for fut in concurrent.futures.as_completed(futures)]\n",
    "        print(\"min element:\",min_el)\n",
    "        print(\"max element:\",max_el)\n",
    "        print(\"sum of elements:\",sum(results))"
   ]
  },
  {
   "cell_type": "markdown",
   "metadata": {},
   "source": [
    "#### Тестирование на небольших данных"
   ]
  },
  {
   "cell_type": "code",
   "execution_count": 29,
   "metadata": {
    "collapsed": true
   },
   "outputs": [],
   "source": [
    "threads_count = 10\n",
    "f_name = 'data_test.txt'"
   ]
  },
  {
   "cell_type": "code",
   "execution_count": 30,
   "metadata": {},
   "outputs": [
    {
     "name": "stdout",
     "output_type": "stream",
     "text": [
      "min element: 11\n",
      "max element: 99997\n",
      "sum of elements: 1244474330\n",
      "Последовательный метод: 0.023244699999963814 seconds\n",
      "min element: 11\n",
      "max element: 99997\n",
      "sum of elements: 1244474330\n",
      "С использованием MMF: 0.22133629999996174 seconds\n",
      "min element: 11\n",
      "max element: 99997\n",
      "sum of elements: 1244474330\n",
      "С использованием потоков + MMF: 0.24804250000011052 seconds\n"
     ]
    }
   ],
   "source": [
    "length = 100000\n",
    "write(f_name)\n",
    "\n",
    "max_el = final_sum = 0\n",
    "min_el = 10**32\n",
    "print('Последовательный метод:',get_time(sequential_method))\n",
    "max_el = final_sum = 0\n",
    "min_el = 10**32\n",
    "print('С использованием MMF:',get_time(make_calculation_mmf))\n",
    "max_el = final_sum = 0\n",
    "min_el = 10**32\n",
    "print('С использованием потоков + MMF:',get_time(make_calculation_mmf_threads))"
   ]
  },
  {
   "cell_type": "code",
   "execution_count": 32,
   "metadata": {},
   "outputs": [
    {
     "name": "stdout",
     "output_type": "stream",
     "text": [
      "min element: 3\n",
      "max element: 999999\n",
      "sum of elements: 124896822844\n",
      "Последовательный метод: 0.2320250999999871 seconds\n",
      "min element: 3\n",
      "max element: 999999\n",
      "sum of elements: 124896822844\n",
      "С использованием MMF: 2.4709411000000046 seconds\n",
      "min element: 3\n",
      "max element: 999999\n",
      "sum of elements: 124896822844\n",
      "С использованием потоков + MMF: 2.4772308000000294 seconds\n"
     ]
    }
   ],
   "source": [
    "length = 1000000\n",
    "write(f_name) \n",
    "\n",
    "max_el = final_sum = 0\n",
    "min_el = 10**32\n",
    "print('Последовательный метод:',get_time(sequential_method))\n",
    "max_el = final_sum = 0\n",
    "min_el = 10**32\n",
    "print('С использованием MMF:',get_time(make_calculation_mmf))\n",
    "max_el = final_sum = 0\n",
    "min_el = 10**32\n",
    "print('С использованием потоков + MMF:',get_time(make_calculation_mmf_threads))"
   ]
  },
  {
   "cell_type": "markdown",
   "metadata": {
    "collapsed": true
   },
   "source": [
    "### Тестирование на файле размера 1 ГБ"
   ]
  },
  {
   "cell_type": "code",
   "execution_count": 24,
   "metadata": {
    "collapsed": true
   },
   "outputs": [],
   "source": [
    "length = 90000000\n",
    "f_name = 'data.txt'"
   ]
  },
  {
   "cell_type": "code",
   "execution_count": 25,
   "metadata": {
    "collapsed": true
   },
   "outputs": [],
   "source": [
    "write(f_name)"
   ]
  },
  {
   "cell_type": "code",
   "execution_count": 26,
   "metadata": {},
   "outputs": [
    {
     "name": "stdout",
     "output_type": "stream",
     "text": [
      "min element: 17\n",
      "max element: 89999998\n",
      "sum of elements: 1012430240809726\n",
      "Последовательный метод: 21.508851999999962 seconds\n"
     ]
    }
   ],
   "source": [
    "max_el = final_sum = 0\n",
    "min_el = 10**32\n",
    "print('Последовательный метод:',get_time(sequential_method))"
   ]
  },
  {
   "cell_type": "code",
   "execution_count": 27,
   "metadata": {},
   "outputs": [
    {
     "name": "stdout",
     "output_type": "stream",
     "text": [
      "min element: 17\n",
      "max element: 89999998\n",
      "sum of elements: 1012430240809726\n",
      "С использованием MMF: 229.6234756 seconds\n"
     ]
    }
   ],
   "source": [
    "max_el = final_sum = 0\n",
    "min_el = 10**32\n",
    "print('С использованием MMF:',get_time(make_calculation_mmf))"
   ]
  },
  {
   "cell_type": "code",
   "execution_count": 28,
   "metadata": {},
   "outputs": [
    {
     "name": "stdout",
     "output_type": "stream",
     "text": [
      "min element: 17\n",
      "max element: 89999998\n",
      "sum of elements: 1012430240809726\n",
      "С использованием потоков + MMF: 232.3467584 seconds\n"
     ]
    }
   ],
   "source": [
    "max_el = final_sum = 0\n",
    "min_el = 10**32\n",
    "print('С использованием потоков + MMF:',get_time(make_calculation_mmf_threads))"
   ]
  },
  {
   "cell_type": "code",
   "execution_count": null,
   "metadata": {
    "collapsed": true
   },
   "outputs": [],
   "source": []
  }
 ],
 "metadata": {
  "kernelspec": {
   "display_name": "Python 3",
   "language": "python",
   "name": "python3"
  },
  "language_info": {
   "codemirror_mode": {
    "name": "ipython",
    "version": 3
   },
   "file_extension": ".py",
   "mimetype": "text/x-python",
   "name": "python",
   "nbconvert_exporter": "python",
   "pygments_lexer": "ipython3",
   "version": "3.6.7"
  }
 },
 "nbformat": 4,
 "nbformat_minor": 2
}
